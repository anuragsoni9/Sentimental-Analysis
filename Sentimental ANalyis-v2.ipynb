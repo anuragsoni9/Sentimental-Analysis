{
 "cells": [
  {
   "cell_type": "code",
   "execution_count": 1,
   "metadata": {
    "collapsed": true
   },
   "outputs": [],
   "source": [
    "import numpy as np\n",
    "import pandas as pd\n",
    "import seaborn as sns\n",
    "from IPython.display import display\n",
    "pd.set_option(\"max_columns\", None)\n"
   ]
  },
  {
   "cell_type": "markdown",
   "metadata": {},
   "source": [
    "### Sample Comment\n",
    "* Item 1\n",
    "* Item 2"
   ]
  },
  {
   "cell_type": "code",
   "execution_count": 2,
   "metadata": {},
   "outputs": [
    {
     "name": "stdout",
     "output_type": "stream",
     "text": [
      "[nltk_data] Downloading package stopwords to\n",
      "[nltk_data]     C:\\Users\\Soni\\AppData\\Roaming\\nltk_data...\n",
      "[nltk_data]   Package stopwords is already up-to-date!\n",
      "[nltk_data] Downloading package vader_lexicon to\n",
      "[nltk_data]     C:\\Users\\Soni\\AppData\\Roaming\\nltk_data...\n",
      "[nltk_data]   Package vader_lexicon is already up-to-date!\n"
     ]
    },
    {
     "data": {
      "text/plain": [
    
      ]
     },
     "execution_count": 2,
     "metadata": {},
     "output_type": "execute_result"
    }
   ],
   "source": [
    "#nfnsfskn\n",
    "import os\n",
    "import nltk\n",
    "nltk.download('stopwords')\n",
    "nltk.download('vader_lexicon')\n",
    "os.getcwd()"
   ]
  },
  {
   "cell_type": "code",
   "execution_count": 3,
   "metadata": {
    "collapsed": true
   },
   "outputs": [],
   "source": [
    "cars = pd.read_csv(\"cars.csv\")\n"
   ]
  },
  {
   "cell_type": "code",
   "execution_count": 4,
   "metadata": {},
   "outputs": [
    {
     "data": {
      "text/plain": [
       "array([ 'Please RT? #cars #supercars #luxurycars #motor Lamborghini Italian Tour: Emilia Romagna and Marche  -.. https://t.co/cu43Tm8LGf https://t.co/0F3Y857Wny',\n",
       "       'Please RT? #cars #supercars #luxurycars #motor F1 Teams Unveil 2016 Cars At Winter Testing https://t.co/979IKhnSuv https://t.co/riWJile9NC',\n",
       "       'Please RT? #cars #supercars #luxurycars #motor On Board With Patrick Friesacher at the Salzburg Airport... https://t.co/oc5WfqIQMK https://t.co/EqKfc19Z68',\n",
       "       ...,\n",
       "       \"Please RT? #cars #supercars #luxurycars #motor Bike Build With Monster Energy Kawasaki's Travis Parry |... https://t.co/OhglOMX7ne https://t.co/vwyMG5iUZS\",\n",
       "       'Please RT? #cars #supercars #luxurycars #motor On Board with David Coulthard for a flying lap at Paul. https://t.co/uM8ulTsoZG https://t.co/IBo6i7CVnD',\n",
       "       'Please RT? #cars #supercars #luxurycars #motor F1 2016 - Official Video Game Trailer https://t.co/6LYz2OleJZ https://t.co/hIrDtZhH8z'], dtype=object)"
      ]
     },
     "execution_count": 4,
     "metadata": {},
     "output_type": "execute_result"
    }
   ],
   "source": [
    "cars['text'].values[:]"
   ]
  },
  {
   "cell_type": "code",
   "execution_count": 18,
   "metadata": {},
   "outputs": [
    {
     "data": {
      "text/plain": [
       "(2872, 18)"
      ]
     },
     "execution_count": 18,
     "metadata": {},
     "output_type": "execute_result"
    }
   ],
   "source": [
    "cars.shape"
   ]
  },
  {
   "cell_type": "code",
   "execution_count": 6,
   "metadata": {},
   "outputs": [
    {
     "name": "stdout",
     "output_type": "stream",
     "text": [
      "Please RT? #cars #supercars #luxurycars #motor Lamborghini Italian Tour: Emilia Romagna and Marche  -.. https://t.co/cu43Tm8LGf https://t.co/0F3Y857Wny\n",
      "compound:0.3182, neg:0.0, neu:0.867, pos:0.133, \n",
      "Please RT? #cars #supercars #luxurycars #motor F1 Teams Unveil 2016 Cars At Winter Testing https://t.co/979IKhnSuv https://t.co/riWJile9NC\n",
      "compound:0.3182, neg:0.0, neu:0.867, pos:0.133, \n",
      "Please RT? #cars #supercars #luxurycars #motor On Board With Patrick Friesacher at the Salzburg Airport... https://t.co/oc5WfqIQMK https://t.co/EqKfc19Z68\n",
      "compound:0.3182, neg:0.0, neu:0.874, pos:0.126, \n",
      "RT @StartGrowthHack: '152 million \"connected #cars\" will be on the road by 2020.'. #AutonomousCars #IoT #AI #BigData Via @intel @2morrowknight @fadouce https://t.co/EoQfFpKXVR\n",
      "compound:0.0, neg:0.0, neu:1.0, pos:0.0, \n",
      "Please RT? #cars #supercars #luxurycars #motor MAN #TRUCKLIFE - Teo Martin motorsport https://t.co/bzJX7fqiuD https://t.co/OljPJo1CkD\n",
      "compound:0.3182, neg:0.0, neu:0.839, pos:0.161, \n"
     ]
    }
   ],
   "source": [
    "from __future__ import print_function\n",
    "from nltk.sentiment.vader import SentimentIntensityAnalyzer\n",
    "sid = SentimentIntensityAnalyzer()\n",
    "for sentence in cars['text'].values[:5]:\n",
    "    print(sentence)\n",
    "    ss = sid.polarity_scores(sentence)\n",
    "    for k in sorted(ss):\n",
    "        print('{0}:{1},'.format(k,ss[k]),end = ' ')\n",
    "    print()"
   ]
  },
  {
   "cell_type": "code",
   "execution_count": 7,
   "metadata": {
    "collapsed": true
   },
   "outputs": [],
   "source": [
    "from nltk.sentiment.vader import SentimentIntensityAnalyzer\n"
   ]
  },
  {
   "cell_type": "code",
   "execution_count": 8,
   "metadata": {
    "collapsed": true
   },
   "outputs": [],
   "source": [
    "from nltk.corpus import stopwords   # stopwords to detect language\n",
    "from nltk import wordpunct_tokenize # function to split up our words\n",
    "\n",
    "def get_language_likelihood(input_text):\n",
    "    \"\"\"Return a dictionary of languages and their likelihood of being the \n",
    "    natural language of the input text\n",
    "    \"\"\"\n",
    " \n",
    "    input_text = input_text.lower()\n",
    "    input_words = wordpunct_tokenize(input_text)\n",
    " \n",
    "    language_likelihood = {}\n",
    "    total_matches = 0\n",
    "    for language in stopwords._fileids:\n",
    "        language_likelihood[language] = len(set(input_words) &\n",
    "                set(stopwords.words(language)))\n",
    " \n",
    "    return language_likelihood\n",
    " \n",
    "def get_language(input_text):\n",
    "    \"\"\"Return the most likely language of the given text\n",
    "    \"\"\" \n",
    "    likelihoods = get_language_likelihood(input_text)\n",
    "    return sorted(likelihoods, key=likelihoods.get, reverse=True)[0]"
   ]
  },
  {
   "cell_type": "code",
   "execution_count": 9,
   "metadata": {},
   "outputs": [
    {
     "name": "stderr",
     "output_type": "stream",
     "text": [
      
      "  app.launch_new_instance()\n"
     ]
    }
   ],
   "source": [
    "cars_reviews = [r for r in cars['text'] if pd.notnull(r) and get_language(r) == 'english']"
   ]
  },
  {
   "cell_type": "code",
   "execution_count": 10,
   "metadata": {
    "collapsed": true
   },
   "outputs": [],
   "source": [
    "pscores = [sid.polarity_scores(comment) for comment in cars_reviews]"
   ]
  },
  {
   "cell_type": "code",
   "execution_count": 11,
   "metadata": {},
   "outputs": [
    {
     "name": "stderr",
     "output_type": "stream",
     "text": [
      
      "  app.launch_new_instance()\n"
     ]
    }
   ],
   "source": [
    "scored_reviews = pd.DataFrame()\n",
    "scored_reviews['review'] = [r for r in cars_reviews if get_language(r) == 'english']\n",
    "scored_reviews['compound'] = [score['compound'] for score in pscores]\n",
    "scored_reviews['negativity'] = [score['neg'] for score in pscores]\n",
    "scored_reviews['neutrality'] = [score['neu'] for score in pscores]\n",
    "scored_reviews['positivity'] = [score['pos'] for score in pscores]"
   ]
  },
  {
   "cell_type": "code",
   "execution_count": null,
   "metadata": {
    "collapsed": true
   },
   "outputs": [],
   "source": []
  },
  {
   "cell_type": "code",
   "execution_count": 31,
   "metadata": {
    "collapsed": true
   },
   "outputs": [],
   "source": [
    "# scored_reviews\n",
    "\n",
    "def extractWords(string,typestr):\n",
    "#     str=\"toyota vs uber assistive lane-keeping auto-parking, \"\n",
    "\n",
    "    \n",
    "    dic_brands=['uber','toyota','honda']\n",
    "    dic_tech_feature=['semi-autonomous','assistive']\n",
    "    dic_concerns=['traffic','fuel','security']\n",
    "    \n",
    "    \n",
    "    \n",
    "    a=None\n",
    "    \n",
    "    for s in string.lower().split():\n",
    "        \n",
    "        if typestr==\"brands\":\n",
    "            if s in dic_brands:\n",
    "                if a is None:\n",
    "                    a=s\n",
    "                else:\n",
    "                    a=a+\",\"+s\n",
    "\n",
    "        if typestr==\"techfeature\":\n",
    "            if s in dic_tech_feature:\n",
    "                if a is None:\n",
    "                    a=s\n",
    "                else:\n",
    "                    a=a+\",\"+s\n",
    "\n",
    "        if typestr==\"concerns\":\n",
    "            if s in dic_concerns:\n",
    "                if a is None:\n",
    "                    a=s\n",
    "                else:\n",
    "                    a=a+\",\"+s\n",
    "\n",
    "    \n",
    "    return a    "
   ]
  },
  {
   "cell_type": "code",
   "execution_count": 32,
   "metadata": {},
   "outputs": [
    {
     "data": {
      "text/plain": [
       "'toyota,uber'"
      ]
     },
     "execution_count": 32,
     "metadata": {},
     "output_type": "execute_result"
    }
   ],
   "source": [
    "extractWords(\"toyota vs uber assistive lane-keeping auto-parking\",\"brands\")"
   ]
  },
  {
   "cell_type": "code",
   "execution_count": null,
   "metadata": {
    "collapsed": true
   },
   "outputs": [],
   "source": [
    "# scored_reviews"
   ]
  },
  {
   "cell_type": "code",
   "execution_count": 34,
   "metadata": {
    "collapsed": true
   },
   "outputs": [],
   "source": [
    "# scored_reviews\n",
    "\n",
    "# help(apply)\n",
    "\n",
    "scored_reviews['brands']=(scored_reviews['review'].apply(lambda x: extractWords(x,\"brands\")))\n",
    "scored_reviews['techfeature']=(scored_reviews['review'].apply(lambda x: extractWords(x,\"techfeature\")))\n",
    "scored_reviews['concerns']=(scored_reviews['review'].apply(lambda x: extractWords(x,\"concerns\")))\n",
    "scored_reviews['location']=(scored_reviews['review'].apply(lambda x: extractWords(x,\"location\")))"
   ]
  },
  {
   "cell_type": "code",
   "execution_count": 24,
   "metadata": {},
   "outputs": [],
   "source": [
    "# scored_reviews.brands.notnull()"
   ]
  },
  {
   "cell_type": "code",
   "execution_count": 35,
   "metadata": {},
   "outputs": [
    {
     "data": {
      "text/html": [
       "<div>\n",
       "<style>\n",
       "    .dataframe thead tr:only-child th {\n",
       "        text-align: right;\n",
       "    }\n",
       "\n",
       "    .dataframe thead th {\n",
       "        text-align: left;\n",
       "    }\n",
       "\n",
       "    .dataframe tbody tr th {\n",
       "        vertical-align: top;\n",
       "    }\n",
       "</style>\n",
       "<table border=\"1\" class=\"dataframe\">\n",
       "  <thead>\n",
       "    <tr style=\"text-align: right;\">\n",
       "      <th></th>\n",
       "      <th>review</th>\n",
       "      <th>compound</th>\n",
       "      <th>negativity</th>\n",
       "      <th>neutrality</th>\n",
       "      <th>positivity</th>\n",
       "      <th>brands</th>\n",
       "      <th>techfeature</th>\n",
       "      <th>concerns</th>\n",
       "      <th>location</th>\n",
       "    </tr>\n",
       "  </thead>\n",
       "  <tbody>\n",
       "    <tr>\n",
       "      <th>326</th>\n",
       "      <td>RT @hondacimahibdg: RT @hondaisme: Honda N-Box...</td>\n",
       "      <td>0.0000</td>\n",
       "      <td>0.000</td>\n",
       "      <td>1.000</td>\n",
       "      <td>0.000</td>\n",
       "      <td>honda,honda</td>\n",
       "      <td>None</td>\n",
       "      <td>None</td>\n",
       "      <td>honda,honda</td>\n",
       "    </tr>\n",
       "    <tr>\n",
       "      <th>512</th>\n",
       "      <td>RT @fullmotorss: Please RT? #cars #supercars #...</td>\n",
       "      <td>0.3182</td>\n",
       "      <td>0.000</td>\n",
       "      <td>0.867</td>\n",
       "      <td>0.133</td>\n",
       "      <td>toyota</td>\n",
       "      <td>None</td>\n",
       "      <td>None</td>\n",
       "      <td>toyota</td>\n",
       "    </tr>\n",
       "    <tr>\n",
       "      <th>568</th>\n",
       "      <td>Please RT if you like!! #luxurycars #luxury #s...</td>\n",
       "      <td>0.6580</td>\n",
       "      <td>0.000</td>\n",
       "      <td>0.736</td>\n",
       "      <td>0.264</td>\n",
       "      <td>honda</td>\n",
       "      <td>None</td>\n",
       "      <td>None</td>\n",
       "      <td>honda</td>\n",
       "    </tr>\n",
       "    <tr>\n",
       "      <th>721</th>\n",
       "      <td>Please RT if you like!! #luxurycars #luxury #s...</td>\n",
       "      <td>0.6580</td>\n",
       "      <td>0.000</td>\n",
       "      <td>0.770</td>\n",
       "      <td>0.230</td>\n",
       "      <td>honda</td>\n",
       "      <td>None</td>\n",
       "      <td>None</td>\n",
       "      <td>honda</td>\n",
       "    </tr>\n",
       "    <tr>\n",
       "      <th>728</th>\n",
       "      <td>Motorcars Honda builds a space for children: A...</td>\n",
       "      <td>0.6597</td>\n",
       "      <td>0.000</td>\n",
       "      <td>0.759</td>\n",
       "      <td>0.241</td>\n",
       "      <td>honda,honda</td>\n",
       "      <td>None</td>\n",
       "      <td>None</td>\n",
       "      <td>honda,honda</td>\n",
       "    </tr>\n",
       "    <tr>\n",
       "      <th>732</th>\n",
       "      <td>Toyota starts software venture with two suppli...</td>\n",
       "      <td>0.4404</td>\n",
       "      <td>0.000</td>\n",
       "      <td>0.894</td>\n",
       "      <td>0.106</td>\n",
       "      <td>toyota,toyota</td>\n",
       "      <td>None</td>\n",
       "      <td>None</td>\n",
       "      <td>toyota,toyota</td>\n",
       "    </tr>\n",
       "    <tr>\n",
       "      <th>735</th>\n",
       "      <td>Toyota revs its engine development: Toyota is ...</td>\n",
       "      <td>0.0000</td>\n",
       "      <td>0.000</td>\n",
       "      <td>1.000</td>\n",
       "      <td>0.000</td>\n",
       "      <td>toyota,toyota</td>\n",
       "      <td>None</td>\n",
       "      <td>None</td>\n",
       "      <td>toyota,toyota</td>\n",
       "    </tr>\n",
       "    <tr>\n",
       "      <th>738</th>\n",
       "      <td>RT @hondaisme: Honda N-Box Custom with Scuderi...</td>\n",
       "      <td>0.0000</td>\n",
       "      <td>0.000</td>\n",
       "      <td>1.000</td>\n",
       "      <td>0.000</td>\n",
       "      <td>honda,honda</td>\n",
       "      <td>None</td>\n",
       "      <td>None</td>\n",
       "      <td>honda,honda</td>\n",
       "    </tr>\n",
       "    <tr>\n",
       "      <th>803</th>\n",
       "      <td>Toyota names most diverse board yet: To broade...</td>\n",
       "      <td>0.0000</td>\n",
       "      <td>0.000</td>\n",
       "      <td>1.000</td>\n",
       "      <td>0.000</td>\n",
       "      <td>toyota</td>\n",
       "      <td>None</td>\n",
       "      <td>None</td>\n",
       "      <td>toyota</td>\n",
       "    </tr>\n",
       "    <tr>\n",
       "      <th>838</th>\n",
       "      <td>Honda N-Box Custom with Scuderia Toro Rosso li...</td>\n",
       "      <td>0.0000</td>\n",
       "      <td>0.000</td>\n",
       "      <td>1.000</td>\n",
       "      <td>0.000</td>\n",
       "      <td>honda,honda</td>\n",
       "      <td>None</td>\n",
       "      <td>None</td>\n",
       "      <td>honda,honda</td>\n",
       "    </tr>\n",
       "    <tr>\n",
       "      <th>1020</th>\n",
       "      <td>Please RT? #cars #supercars #luxurycars #motor...</td>\n",
       "      <td>0.3182</td>\n",
       "      <td>0.000</td>\n",
       "      <td>0.867</td>\n",
       "      <td>0.133</td>\n",
       "      <td>honda</td>\n",
       "      <td>None</td>\n",
       "      <td>None</td>\n",
       "      <td>honda</td>\n",
       "    </tr>\n",
       "    <tr>\n",
       "      <th>1066</th>\n",
       "      <td>RT @hondaisme: Mau tau kenapa Honda Mobilio me...</td>\n",
       "      <td>0.0000</td>\n",
       "      <td>0.000</td>\n",
       "      <td>1.000</td>\n",
       "      <td>0.000</td>\n",
       "      <td>honda</td>\n",
       "      <td>None</td>\n",
       "      <td>None</td>\n",
       "      <td>honda</td>\n",
       "    </tr>\n",
       "    <tr>\n",
       "      <th>1107</th>\n",
       "      <td>Toyota Adds $2.8 Billion to Software Push for ...</td>\n",
       "      <td>0.0000</td>\n",
       "      <td>0.000</td>\n",
       "      <td>1.000</td>\n",
       "      <td>0.000</td>\n",
       "      <td>toyota</td>\n",
       "      <td>None</td>\n",
       "      <td>None</td>\n",
       "      <td>toyota</td>\n",
       "    </tr>\n",
       "    <tr>\n",
       "      <th>1177</th>\n",
       "      <td>Toyota C-HR @ local car meet near Munich!! Che...</td>\n",
       "      <td>0.0000</td>\n",
       "      <td>0.000</td>\n",
       "      <td>1.000</td>\n",
       "      <td>0.000</td>\n",
       "      <td>toyota</td>\n",
       "      <td>None</td>\n",
       "      <td>None</td>\n",
       "      <td>toyota</td>\n",
       "    </tr>\n",
       "    <tr>\n",
       "      <th>1265</th>\n",
       "      <td>eBay: 1980 Toyota Land Cruiser Rare 1984 FJ43 ...</td>\n",
       "      <td>0.0000</td>\n",
       "      <td>0.000</td>\n",
       "      <td>1.000</td>\n",
       "      <td>0.000</td>\n",
       "      <td>toyota,toyota</td>\n",
       "      <td>None</td>\n",
       "      <td>None</td>\n",
       "      <td>toyota,toyota</td>\n",
       "    </tr>\n",
       "    <tr>\n",
       "      <th>1414</th>\n",
       "      <td>Please RT? #cars #supercars #luxurycars #motor...</td>\n",
       "      <td>0.3182</td>\n",
       "      <td>0.000</td>\n",
       "      <td>0.874</td>\n",
       "      <td>0.126</td>\n",
       "      <td>honda</td>\n",
       "      <td>None</td>\n",
       "      <td>None</td>\n",
       "      <td>honda</td>\n",
       "    </tr>\n",
       "    <tr>\n",
       "      <th>1423</th>\n",
       "      <td>Please RT? #cars #supercars #luxurycars #motor...</td>\n",
       "      <td>0.3182</td>\n",
       "      <td>0.000</td>\n",
       "      <td>0.874</td>\n",
       "      <td>0.126</td>\n",
       "      <td>honda</td>\n",
       "      <td>None</td>\n",
       "      <td>None</td>\n",
       "      <td>honda</td>\n",
       "    </tr>\n",
       "    <tr>\n",
       "      <th>1555</th>\n",
       "      <td>RT @AllMotorBlogg: Please RT? #cars #supercars...</td>\n",
       "      <td>0.3182</td>\n",
       "      <td>0.000</td>\n",
       "      <td>0.867</td>\n",
       "      <td>0.133</td>\n",
       "      <td>toyota</td>\n",
       "      <td>None</td>\n",
       "      <td>None</td>\n",
       "      <td>toyota</td>\n",
       "    </tr>\n",
       "    <tr>\n",
       "      <th>1561</th>\n",
       "      <td>Please RT? #cars #supercars #luxurycars #motor...</td>\n",
       "      <td>-0.1779</td>\n",
       "      <td>0.155</td>\n",
       "      <td>0.725</td>\n",
       "      <td>0.119</td>\n",
       "      <td>honda</td>\n",
       "      <td>None</td>\n",
       "      <td>None</td>\n",
       "      <td>honda</td>\n",
       "    </tr>\n",
       "    <tr>\n",
       "      <th>1567</th>\n",
       "      <td>Please RT? #cars #supercars #luxurycars #motor...</td>\n",
       "      <td>-0.1779</td>\n",
       "      <td>0.155</td>\n",
       "      <td>0.725</td>\n",
       "      <td>0.119</td>\n",
       "      <td>honda</td>\n",
       "      <td>None</td>\n",
       "      <td>None</td>\n",
       "      <td>honda</td>\n",
       "    </tr>\n",
       "    <tr>\n",
       "      <th>1631</th>\n",
       "      <td>Please RT? #cars #supercars #luxurycars #motor...</td>\n",
       "      <td>0.3182</td>\n",
       "      <td>0.000</td>\n",
       "      <td>0.850</td>\n",
       "      <td>0.150</td>\n",
       "      <td>toyota</td>\n",
       "      <td>None</td>\n",
       "      <td>None</td>\n",
       "      <td>toyota</td>\n",
       "    </tr>\n",
       "    <tr>\n",
       "      <th>1634</th>\n",
       "      <td>Please RT? #cars #supercars #luxurycars #motor...</td>\n",
       "      <td>0.3182</td>\n",
       "      <td>0.000</td>\n",
       "      <td>0.850</td>\n",
       "      <td>0.150</td>\n",
       "      <td>toyota</td>\n",
       "      <td>None</td>\n",
       "      <td>None</td>\n",
       "      <td>toyota</td>\n",
       "    </tr>\n",
       "    <tr>\n",
       "      <th>1690</th>\n",
       "      <td>Please RT? #cars #supercars #luxurycars #motor...</td>\n",
       "      <td>0.7820</td>\n",
       "      <td>0.000</td>\n",
       "      <td>0.686</td>\n",
       "      <td>0.314</td>\n",
       "      <td>honda</td>\n",
       "      <td>None</td>\n",
       "      <td>None</td>\n",
       "      <td>honda</td>\n",
       "    </tr>\n",
       "    <tr>\n",
       "      <th>1734</th>\n",
       "      <td>RT @hondaisme: Mau tau kenapa Honda Mobilio me...</td>\n",
       "      <td>0.0000</td>\n",
       "      <td>0.000</td>\n",
       "      <td>1.000</td>\n",
       "      <td>0.000</td>\n",
       "      <td>honda</td>\n",
       "      <td>None</td>\n",
       "      <td>None</td>\n",
       "      <td>honda</td>\n",
       "    </tr>\n",
       "    <tr>\n",
       "      <th>1855</th>\n",
       "      <td>Please RT if you like!! #luxurycars #luxury #s...</td>\n",
       "      <td>0.6580</td>\n",
       "      <td>0.000</td>\n",
       "      <td>0.722</td>\n",
       "      <td>0.278</td>\n",
       "      <td>toyota</td>\n",
       "      <td>None</td>\n",
       "      <td>None</td>\n",
       "      <td>toyota</td>\n",
       "    </tr>\n",
       "    <tr>\n",
       "      <th>1894</th>\n",
       "      <td>Please RT if you like!! #luxurycars #luxury #s...</td>\n",
       "      <td>0.6580</td>\n",
       "      <td>0.000</td>\n",
       "      <td>0.736</td>\n",
       "      <td>0.264</td>\n",
       "      <td>honda</td>\n",
       "      <td>None</td>\n",
       "      <td>None</td>\n",
       "      <td>honda</td>\n",
       "    </tr>\n",
       "    <tr>\n",
       "      <th>2129</th>\n",
       "      <td>Please RT? #cars #supercars #luxurycars #motor...</td>\n",
       "      <td>0.2732</td>\n",
       "      <td>0.126</td>\n",
       "      <td>0.651</td>\n",
       "      <td>0.223</td>\n",
       "      <td>honda</td>\n",
       "      <td>None</td>\n",
       "      <td>None</td>\n",
       "      <td>honda</td>\n",
       "    </tr>\n",
       "    <tr>\n",
       "      <th>2137</th>\n",
       "      <td>Please RT? #cars #supercars #luxurycars #motor...</td>\n",
       "      <td>0.5859</td>\n",
       "      <td>0.000</td>\n",
       "      <td>0.745</td>\n",
       "      <td>0.255</td>\n",
       "      <td>honda</td>\n",
       "      <td>None</td>\n",
       "      <td>None</td>\n",
       "      <td>honda</td>\n",
       "    </tr>\n",
       "  </tbody>\n",
       "</table>\n",
       "</div>"
      ],
      "text/plain": [
       "                                                 review  compound  negativity  \\\n",
       "326   RT @hondacimahibdg: RT @hondaisme: Honda N-Box...    0.0000       0.000   \n",
       "512   RT @fullmotorss: Please RT? #cars #supercars #...    0.3182       0.000   \n",
       "568   Please RT if you like!! #luxurycars #luxury #s...    0.6580       0.000   \n",
       "721   Please RT if you like!! #luxurycars #luxury #s...    0.6580       0.000   \n",
       "728   Motorcars Honda builds a space for children: A...    0.6597       0.000   \n",
       "732   Toyota starts software venture with two suppli...    0.4404       0.000   \n",
       "735   Toyota revs its engine development: Toyota is ...    0.0000       0.000   \n",
       "738   RT @hondaisme: Honda N-Box Custom with Scuderi...    0.0000       0.000   \n",
       "803   Toyota names most diverse board yet: To broade...    0.0000       0.000   \n",
       "838   Honda N-Box Custom with Scuderia Toro Rosso li...    0.0000       0.000   \n",
       "1020  Please RT? #cars #supercars #luxurycars #motor...    0.3182       0.000   \n",
       "1066  RT @hondaisme: Mau tau kenapa Honda Mobilio me...    0.0000       0.000   \n",
       "1107  Toyota Adds $2.8 Billion to Software Push for ...    0.0000       0.000   \n",
       "1177  Toyota C-HR @ local car meet near Munich!! Che...    0.0000       0.000   \n",
       "1265  eBay: 1980 Toyota Land Cruiser Rare 1984 FJ43 ...    0.0000       0.000   \n",
       "1414  Please RT? #cars #supercars #luxurycars #motor...    0.3182       0.000   \n",
       "1423  Please RT? #cars #supercars #luxurycars #motor...    0.3182       0.000   \n",
       "1555  RT @AllMotorBlogg: Please RT? #cars #supercars...    0.3182       0.000   \n",
       "1561  Please RT? #cars #supercars #luxurycars #motor...   -0.1779       0.155   \n",
       "1567  Please RT? #cars #supercars #luxurycars #motor...   -0.1779       0.155   \n",
       "1631  Please RT? #cars #supercars #luxurycars #motor...    0.3182       0.000   \n",
       "1634  Please RT? #cars #supercars #luxurycars #motor...    0.3182       0.000   \n",
       "1690  Please RT? #cars #supercars #luxurycars #motor...    0.7820       0.000   \n",
       "1734  RT @hondaisme: Mau tau kenapa Honda Mobilio me...    0.0000       0.000   \n",
       "1855  Please RT if you like!! #luxurycars #luxury #s...    0.6580       0.000   \n",
       "1894  Please RT if you like!! #luxurycars #luxury #s...    0.6580       0.000   \n",
       "2129  Please RT? #cars #supercars #luxurycars #motor...    0.2732       0.126   \n",
       "2137  Please RT? #cars #supercars #luxurycars #motor...    0.5859       0.000   \n",
       "\n",
       "      neutrality  positivity         brands techfeature concerns  \\\n",
       "326        1.000       0.000    honda,honda        None     None   \n",
       "512        0.867       0.133         toyota        None     None   \n",
       "568        0.736       0.264          honda        None     None   \n",
       "721        0.770       0.230          honda        None     None   \n",
       "728        0.759       0.241    honda,honda        None     None   \n",
       "732        0.894       0.106  toyota,toyota        None     None   \n",
       "735        1.000       0.000  toyota,toyota        None     None   \n",
       "738        1.000       0.000    honda,honda        None     None   \n",
       "803        1.000       0.000         toyota        None     None   \n",
       "838        1.000       0.000    honda,honda        None     None   \n",
       "1020       0.867       0.133          honda        None     None   \n",
       "1066       1.000       0.000          honda        None     None   \n",
       "1107       1.000       0.000         toyota        None     None   \n",
       "1177       1.000       0.000         toyota        None     None   \n",
       "1265       1.000       0.000  toyota,toyota        None     None   \n",
       "1414       0.874       0.126          honda        None     None   \n",
       "1423       0.874       0.126          honda        None     None   \n",
       "1555       0.867       0.133         toyota        None     None   \n",
       "1561       0.725       0.119          honda        None     None   \n",
       "1567       0.725       0.119          honda        None     None   \n",
       "1631       0.850       0.150         toyota        None     None   \n",
       "1634       0.850       0.150         toyota        None     None   \n",
       "1690       0.686       0.314          honda        None     None   \n",
       "1734       1.000       0.000          honda        None     None   \n",
       "1855       0.722       0.278         toyota        None     None   \n",
       "1894       0.736       0.264          honda        None     None   \n",
       "2129       0.651       0.223          honda        None     None   \n",
       "2137       0.745       0.255          honda        None     None   \n",
       "\n",
       "           location  \n",
       "326     honda,honda  \n",
       "512          toyota  \n",
       "568           honda  \n",
       "721           honda  \n",
       "728     honda,honda  \n",
       "732   toyota,toyota  \n",
       "735   toyota,toyota  \n",
       "738     honda,honda  \n",
       "803          toyota  \n",
       "838     honda,honda  \n",
       "1020          honda  \n",
       "1066          honda  \n",
       "1107         toyota  \n",
       "1177         toyota  \n",
       "1265  toyota,toyota  \n",
       "1414          honda  \n",
       "1423          honda  \n",
       "1555         toyota  \n",
       "1561          honda  \n",
       "1567          honda  \n",
       "1631         toyota  \n",
       "1634         toyota  \n",
       "1690          honda  \n",
       "1734          honda  \n",
       "1855         toyota  \n",
       "1894          honda  \n",
       "2129          honda  \n",
       "2137          honda  "
      ]
     },
     "execution_count": 35,
     "metadata": {},
     "output_type": "execute_result"
    }
   ],
   "source": [
    "scored_reviews[scored_reviews.brands.notnull()]\n",
    "# scored_reviews"
   ]
  },
  {
   "cell_type": "code",
   "execution_count": null,
   "metadata": {
    "collapsed": true
   },
   "outputs": [],
   "source": [
    "scored_reviews.to_csv('scores.csv')"
   ]
  }
 ],
 "metadata": {
  "kernelspec": {
   "display_name": "Python 2",
   "language": "python",
   "name": "python2"
  },
  "language_info": {
   "codemirror_mode": {
    "name": "ipython",
    "version": 2
   },
   "file_extension": ".py",
   "mimetype": "text/x-python",
   "name": "python",
   "nbconvert_exporter": "python",
   "pygments_lexer": "ipython2",
   "version": "2.7.14"
  }
 },
 "nbformat": 4,
 "nbformat_minor": 2
}
